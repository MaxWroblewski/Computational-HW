{
 "cells": [
  {
   "cell_type": "markdown",
   "id": "90ecb153",
   "metadata": {},
   "source": [
    "# Partial differential equations\n",
    "\n",
    "Requirements\n",
    "+ matplotlib\n",
    "+ numpy\n",
    "+ scipy\n",
    "\n",
    "Optional\n",
    "+ ipywidgets (for making interactive visualizations)\n"
   ]
  },
  {
   "cell_type": "code",
   "execution_count": 2,
   "id": "6290f3ae",
   "metadata": {},
   "outputs": [],
   "source": [
    "import numpy as np\n",
    "import matplotlib.pyplot as plt\n",
    "%matplotlib inline"
   ]
  },
  {
   "cell_type": "markdown",
   "id": "d142e21e",
   "metadata": {},
   "source": [
    "# Phase separation, initial value problems, and the Method of Lines\n",
    "\n",
    "### The Allen-Cahn equation\n",
    "\n",
    "We want to solve [the Allen-Cahn equation](https://www.sciencedirect.com/science/article/abs/pii/0001616072900375), a single-variable partial differential equation describing spontaneous mixture or separation of two components of a binary mixture, such as two metals in an alloy. This initial value problem is what's known as a parabolic differential equation, because it contains derivatives that are first-order in time and second-order in space.\n",
    "$$\n",
    "\\dot{\\rho}(\\mathbf{r}, t) = D \\nabla^2 \\rho(\\mathbf{r}, t) + \\kappa \\rho(\\mathbf{r}, t) (1 - \\rho(\\mathbf{r}, t)^2),\n",
    "$$\n",
    "where the scalar field $\\rho$ denotes the relative concentration of the two alloys at a given region of space, the constant $D$ denotes the diffusivity of the scalar field $\\rho(\\mathbf{r}, t)$, and $\\kappa$ determines the degree by which the two fluids avoid mixing with eachother (this loosely corresponds to surface tension).\n",
    "\n",
    "Notice that, when $\\kappa = 0$, this problem reduces to the heat equation. Conversely, when $D = 0$, we no longer have any spatial structure in the problem, and can solve it as though it were an ODE. We can thus see that there are two competing terms in the AC equation:  The diffusion term penalizes gradients and causes the two mixtures to intermix over time, because diffusion penalizes inhomogeneity. However, this term competes with the reaction term, which encourages the majority mixture component at a given point to exclude the other component.\n",
    "\n",
    "In order to solve this equation, we need to specify the initial conditions. For ordinary differential equations $\\dot{\\mathbf{x}}(t) = \\mathbf{f}(\\mathbf{x}(t), t)$, an initial value problem consists of specifying the initial conditions $\\mathbf{x}(0)$, and then solving for $\\mathbf{x}(t)$ at future times $t$. For a PDE, solving an initial value problem requires specifying the initial value of a scalar field $\\rho(\\mathbf{r}, 0)$ and then solving for the future field configuration.\n",
    "\n",
    "### Numerical approach\n",
    "\n",
    "Our approach will be *the method of lines.* This semi-discretization approach consists of first explicitly discretizing the spatial part of the differential equation, thereby reducing the problem to solving a set of coupled ODEs describing each lattice site at a given time. Like the heat equation, the only portion of the equation that couples together different spatial lattice sites is the Laplace operator, and so we seek a discrete approximation of this term in the equation.\n",
    "\n",
    "If we assume that we are working in two-dimensions, then the semi-discretization consists of replacing $\\rho(\\mathbf{r}, t)$ with $\\rho_{ij}(t)$, which denotes the lattice site at location $i$ and $j$ on a square lattice. We therefore can approximate the Laplace operator using first-order central finite differences,\n",
    "$$\n",
    "\\nabla^2 \\rho(\\mathbf{r}, t) \\approx (\\rho_{i + 1, j}(t) - 2 \\rho_{ij}(t) + \\rho_{i - 1, j}) + (\\rho_{i, j + 1}(t) - 2 \\rho_{ij}(t) + \\rho_{i, j - 1}(t)) \n",
    "$$\n",
    "$$\n",
    "\\nabla^2 \\rho(\\mathbf{r}, t) \\approx \\rho_{i + 1, j}(t) + \\rho_{i, j + 1}(t) - 4 \\rho_{ij}(t) + \\rho_{i - 1, j}(t) + \\rho_{i, j - 1}(t)\n",
    "$$\n",
    "Where we have used the fact that we are working in Cartesian coordinates $\\nabla^2 = \\dfrac{\\partial^2}{\\partial x^2} + \\dfrac{\\partial^2}{\\partial y^2}$ in order to sum the one-dimensional discrete Laplace operators. The method of lines is one member of a general family of **finite-difference methods** for partial differential equations, where we convert derivatives in space in time into discrete difference equations.\n",
    "\n",
    "### Putting it all together\n",
    "\n",
    "We can can now write the Allen-Cahn equation in terms of our discrete Laplace operator,\n",
    "$$\n",
    "\\dot{\\rho}_{ij}(t) = D\\left(\\rho_{i + 1, j}(t) + \\rho_{i, j + 1}(t) - 4 \\rho_{ij}(t) + \\rho_{i - 1, j}(t) + \\rho_{i, j - 1}(t)\\right) + \\kappa \\rho_{ij}(t) (1 - \\rho_{ij}(t)^2)\n",
    "$$\n",
    "\n",
    "This equation basically specifies a set of coupled ordinary differential equations, where individual equations are specified by two indices $ij$ instead of a single index. All that we need to do now is discretize the initial values of the field, by sampling its values at the different lattice sites: $\\rho(\\mathbf{r}, 0) \\rightarrow \\rho_{ij}(0)$. We can then proceed by solving the system of coupled ordinary differential equations using the exact same methods we normally use to solve systems of ODEs.\n",
    "\n",
    "### Boundary Conditions\n",
    "\n",
    "One ambiguity that we need to resolve will be our choice of boundary conditions---what happens at the edges of our solution domain? If our indices $i$ and $j$ have values $i,j \\in \\{0, 1, ..., N\\}$, then we need a principled choice for the behavior of the discrete Laplace operator when $i,j < 0$ or $i, j > N$. \n",
    "\n",
    "Depending on the type of problem, boundary conditions for partial differential equations can often be classified as either:\n",
    "1. Dirichlet: the value of $\\rho$ is specified on the boundary.\n",
    "2. Neumann: the value of $\\nabla \\rho$ is specified on the boundary.\n",
    "\n",
    "Dirichlet boundary conditions occur if a physical phenomenon \"pins\" the values of the scalar field at the edges of the domain. For example, in a partial differential equation describing deformations of a drumhead, the edges are usually pinned. Conversely, Neumann boundary conditions indicate the the flux of the field is pinned at the edges of the domain. For example, the edges of a granular pile have a preferred contact angle that they form with surfaces. However, mixtures of both types boundary conditions, as well as higher-order combinations, also exist. For example, in fluid dynamics we often encounter equations that obey a no-slip and no-flux boundary condition. The no-slip boundary condition specifies that the velocity of a fluid is always zero along a direction tangential to a boundary due to friction, thus representing a Dirichlet condition along the tangential direction. However, the no-flux boundary condition specifies that fluid cannot penetrate the boundary along the direction perpendicular to the boundary, thus representing a Neumann boundary condition.\n",
    "\n",
    "### Problem outline\n",
    "\n",
    "Now that we've discretized our equation and figured out our boundary conditions, we are ready to numerically solve the heat equation using the exact same tricks we used to solve ODEs. We can choose whatever ODE solver that we prefer, including Euler's method, Runge-Kutta, or even variable-step or implicit methods. Here, rather than worrying about our choice of solver, we are going to use the `scipy` package's built-in ODE solver `solve_ivp`, which provides a consistent API for a whole suite of different ODE solution methods.\n",
    "\n",
    "We will use a square domain, and we will use a particular type of Neumann boundary conditions: reflection. We specify that the derivative of $\\rho$ equal zero along all directions perpendicular to the boundary, $\\nabla \\rho \\cdot \\hat{\\mathbf{n}} = 0$, where $\\hat{\\mathbf{n}}$ is the normal vector to the boundary. This is equivalent to assuming that the boundary doesn't exist, and all points beyond where it appears correspond to a mirror image of our field---since any finite difference across the reflection will vanish.\n",
    "\n",
    "### To Do\n",
    "\n",
    "1. Implement the Allen-Cahn equation using the method of lines. I recommend implementing just the diffusion portion first, and checking that it works, before adding on the reaction term. I've included an outline of my solution below. Once you've reduced the problem to a system of coupled ODEs, you will need to make generous use of `np.reshape`. For numerical integration, we will use the ODE solver `scipy.integrate.solve_ivp`. Review the API and docs for that function to make sure your differential equation is set up properly. \n",
    "2. Describe how varying $D$ and $\\kappa$ change the properties of your solution. Is this consistent with your intuition for special cases in which this equation is solvable?\n",
    "3. Try changing the mesh size, integration timestep, or integration duration. Under what conditions does the solver fail? What do failures look like for this solution method?\n",
    "4.  If you are familiar with Photoshop, you have probably used a tool called a [\"Gaussian blur,\"](https://www.youtube.com/watch?v=ri8RVzhHYoA) which blurs image details in a manner reminiscent of camera blur. This method is occasionally used in the analysis of experimental microscopy images, or even one-dimensional time series, in order to remove high-frequency information. The results of a Gaussian blur of fixed radius look very reminiscent of applying the raw diffusion equation ($\\kappa=0$) to our initial conditions for a fixed duration. Based on what you know about analytical results for the heat equation, can you guess why this might be the case? What kind of photo-editing operation does the reaction term in our system mimic?\n",
    "\n",
    "\n",
    "### Additional information\n",
    "\n",
    "+ Here, we use first-order central finite differences in order to resolve the derivatives. Each finite-difference operation polls two lattice sites to compute a first derivative along a given direction, and it polls three lattice sites in order to compute a second derivative. If we have a very dense mesh and desire higher accuracy, we are free to use a [higher-order approximation](https://en.wikipedia.org/wiki/Finite_difference_coefficient). On an uneven mesh, it may even make sense to adaptively choose the order of our operator based on the local lattice spacing.\n",
    "+  The [Cahn-Hilliard equation](https://dspace.mit.edu/bitstream/handle/1721.1/100188/10-626-spring-2011/contents/lecture-notes/MIT10_626S11_lec38.pdf) is another model of phase separation with higher order terms in $\\nabla$, leading to a rich range of dynamical behaviors such as spinodal decomposition  and critical opalescence.\n",
    "\n",
    "### Responses\n",
    "2. Higher D makes everything homogenize quicker, lower D goes slower. Higher $\\kappa$ leads to sharper looking boundaries, lower $\\kappa$ leads a more smooth looking field over time.\n",
    "\n",
    "3. \n",
    "    Mesh size: A finer mesh gives a higher resolution, but has a longer computation time. \n",
    "    Integration timestep: Smaller timesteps improve accuracy but slow down computation. Up to a point, decreasing timesteps size doesn't change the result much though.\n",
    "    Integration duration: Over long integration durations, the system either reaches a steady state or does some funny pattern.\n",
    "    Failures look like a bunch of error messages for step sizes that are too large, or like a really course image if it doesnt directly give an error directly\n",
    "\n",
    "4. The reaction term in our equation promotes one phase dominating over the other, this is similar to changing the contrast of our image as increasing contrast sharpens the difference between boundaries."
   ]
  },
  {
   "cell_type": "code",
   "execution_count": null,
   "id": "8d7b6def",
   "metadata": {},
   "outputs": [],
   "source": [
    "from scipy.integrate import odeint, solve_ivp\n",
    "import numpy as np\n",
    "class AllenCahn:\n",
    "    \"\"\"\n",
    "    An implementation of the Allen-Cahn equation in two dimensions, using the method\n",
    "    of lines and explicit finite differences\n",
    "\n",
    "    Parameters:\n",
    "        nx (int): number of grid points in the x direction\n",
    "        ny (int): number of grid points in the y direction\n",
    "        kappa (float): reaction rate\n",
    "        d (float): diffusion coefficient\n",
    "        Lx (float): length of the domain in the x direction\n",
    "        Ly (float): length of the domain in the y direction\n",
    "\n",
    "    \"\"\"\n",
    "\n",
    "    def __init__(self, nx, ny, kappa=1.0, d=1.0, Lx=1.0, Ly=1.0):\n",
    "        self.nx = nx\n",
    "        self.ny = ny\n",
    "        self.dx = Lx / nx\n",
    "        self.dy = Ly / ny\n",
    "        self.d = d\n",
    "        self.kappa = kappa\n",
    "       \n",
    "    def _laplace(self, grid):\n",
    "        \"\"\"\n",
    "        Apply the two-dimensional Laplace operator to a square array\n",
    "        \"\"\"\n",
    "        laplace_grid = np.zeros_like(grid)\n",
    "\n",
    "        laplace_grid[1:-1, 1:-1] = (\n",
    "            (grid[:-2, 1:-1] - 2 * grid[1:-1, 1:-1] + grid[2:, 1:-1]) / self.dx**2 +\n",
    "            (grid[1:-1, :-2] - 2 * grid[1:-1, 1:-1] + grid[1:-1, 2:]) / self.dy**2\n",
    "        )\n",
    "        \n",
    "        laplace_grid[:, 0] = laplace_grid[:, 1]\n",
    "        laplace_grid[:, -1] = laplace_grid[:, -2]\n",
    "        laplace_grid[0, :] = laplace_grid[1, :]\n",
    "        laplace_grid[-1, :] = laplace_grid[-2, :]\n",
    "\n",
    "        return laplace_grid\n",
    "    \n",
    "    def _reaction(self, y):\n",
    "        \"\"\"\n",
    "        Bistable reaction term\n",
    "        \"\"\"\n",
    "        return y * (1 - y**2)\n",
    "\n",
    "    def rhs(self, t, y):\n",
    "        \"\"\"\n",
    "        For technical reasons, this function needs to take a one-dimensional vector, \n",
    "        and so we have to reshape the vector back into the mesh\n",
    "        \"\"\"\n",
    "        grid = y.reshape((self.nx, self.ny))\n",
    "        laplace_term = self._laplace(grid)\n",
    "        reaction_term = self._reaction(grid)\n",
    "        dydt = self.d * laplace_term + self.kappa * reaction_term\n",
    "        return dydt.ravel()\n",
    "\n",
    "    def solve(self, y0, t_min, t_max, nt, **kwargs):\n",
    "        \"\"\"\n",
    "        Solve the heat equation using the odeint solver\n",
    "\n",
    "        **kwargs are passed to scipy.integrate.solve_ivp\n",
    "        \"\"\"\n",
    "\n",
    "        t_span = (t_min, t_max)\n",
    "        t_eval = np.linspace(t_min, t_max, nt)\n",
    "        sol = solve_ivp(self.rhs, t_span, y0.ravel(), t_eval=t_eval, **kwargs)\n",
    "        return sol.t, sol.y.T.reshape((len(t_eval), self.ny, self.nx))\n",
    "\n",
    "\n"
   ]
  },
  {
   "cell_type": "markdown",
   "id": "0fdec9e4",
   "metadata": {},
   "source": [
    "### Test and use your code\n",
    "\n",
    "+ You don't need to write any code below, these cells are just to confirm that everything is working and to play with your implementation\n",
    "+ If you are working from a local fork of the entire course, then you already have access to the solutions. In this case, make sure to `git pull` to make sure that you are up-to-date (save your work first).\n",
    "+ If you are working from a single downloaded notebook, or are working in Google Colab, then you will need to manually download the solutions file from the course repository. The lines below will do this for you."
   ]
  },
  {
   "cell_type": "code",
   "execution_count": 13,
   "id": "1e19acf3",
   "metadata": {},
   "outputs": [
    {
     "name": "stdout",
     "output_type": "stream",
     "text": [
      "Directory \"solutions\" already exists. Skipping creation.\n",
      "File saved to solutions\\sandpile.py\n",
      "File saved to solutions\\sandpile.py\n"
     ]
    }
   ],
   "source": [
    "import os\n",
    "import requests\n",
    "# Check if the \"solutions\" directory exists. If not, create it and download the solution file\n",
    "if not os.path.exists('solutions'):\n",
    "    os.makedirs('solutions')\n",
    "else:\n",
    "    print('Directory \"solutions\" already exists. Skipping creation.')\n",
    "\n",
    "# Now download the solution file into the directory we just created\n",
    "url = 'https://raw.githubusercontent.com/williamgilpin/cphy/main/hw/solutions/allencahn_spectral.py'\n",
    "response = requests.get(url)\n",
    "file_path = os.path.join('solutions', 'sandpile.py')\n",
    "with open(file_path, 'wb') as file:\n",
    "    file.write(response.content)\n",
    "print(f'File saved to {file_path}')\n",
    "# Now download the solution file into the directory we just created\n",
    "url = 'https://raw.githubusercontent.com/williamgilpin/cphy/main/hw/solutions/allencahn.py'\n",
    "response = requests.get(url)\n",
    "file_path = os.path.join('solutions', 'sandpile.py')\n",
    "with open(file_path, 'wb') as file:\n",
    "    file.write(response.content)\n",
    "print(f'File saved to {file_path}')"
   ]
  },
  {
   "cell_type": "code",
   "execution_count": 51,
   "id": "30ee8cf4",
   "metadata": {},
   "outputs": [
    {
     "data": {
      "text/plain": [
       "<matplotlib.image.AxesImage at 0x166a750dc00>"
      ]
     },
     "execution_count": 51,
     "metadata": {},
     "output_type": "execute_result"
    },
    {
     "data": {
      "image/png": "[encoded data removed]",
      "text/plain": [
       "<Figure size 640x480 with 1 Axes>"
      ]
     },
     "metadata": {},
     "output_type": "display_data"
    },
    {
     "data": {
      "image/png": "[encoded data removed]",
      "text/plain": [
       "<Figure size 640x480 with 1 Axes>"
      ]
     },
     "metadata": {},
     "output_type": "display_data"
    }
   ],
   "source": [
    "# import one of William's solution approaches\n",
    "#from solutions.allencahn_spectral import AllenCahn\n",
    "#from solutions.allencahn import AllenCahn\n",
    "import numpy as np\n",
    "import matplotlib.pyplot as plt\n",
    "## Run an example simulation and plot the before and after\n",
    "np.random.seed(0)\n",
    "ic = np.random.random((50, 50)) - 0.5\n",
    "model = AllenCahn(*ic.shape, kappa=1e0, d=1e-1)\n",
    "tpts, sol = model.solve(ic, 0, 8, 500, method=\"DOP853\")\n",
    "\n",
    "\n",
    "plt.figure()\n",
    "plt.imshow(sol[0], vmin=-1, vmax=1)\n",
    "\n",
    "plt.figure()\n",
    "plt.imshow(sol[-1], vmin=-1, vmax=1)"
   ]
  },
  {
   "cell_type": "markdown",
   "id": "376fa5fe",
   "metadata": {},
   "source": [
    "(Optional) We can try making a slider to visualize the time evolution of the field. This will require the `ipywidgets` package, which is not installed by default in Google Colab. If you are running this notebook in Google Colab, you can install the package by running `!pip install ipywidgets` in a code cell."
   ]
  },
  {
   "cell_type": "code",
   "execution_count": 52,
   "id": "7f62b1c7",
   "metadata": {},
   "outputs": [
    {
     "data": {
      "application/vnd.jupyter.widget-view+json": {
       "model_id": "53f14c5418c648f28d579236377cce27",
       "version_major": 2,
       "version_minor": 0
      },
      "text/plain": [
       "interactive(children=(IntSlider(value=0, description='i', layout=Layout(width='500px'), max=499), Output()), _…"
      ]
     },
     "metadata": {},
     "output_type": "display_data"
    },
    {
     "data": {
      "text/plain": [
       "<function __main__.plotter(i)>"
      ]
     },
     "execution_count": 52,
     "metadata": {},
     "output_type": "execute_result"
    }
   ],
   "source": [
    "##  (optional) Make an interactive video with a slider in the notebook\n",
    "from ipywidgets import interact, interactive, fixed, interact_manual, Layout\n",
    "import ipywidgets as widgets\n",
    "\n",
    "def plotter(i):\n",
    "    # plt.close()\n",
    "    fig = plt.figure(figsize=(10, 10))\n",
    "    plt.imshow(sol[i], vmin=-1, vmax=1, cmap=\"coolwarm\")\n",
    "    plt.show()\n",
    "\n",
    "interact(\n",
    "    plotter, \n",
    "    i=widgets.IntSlider(0, 0, len(sol) - 1, 1, layout=Layout(width='500px'))\n",
    ")"
   ]
  },
  {
   "cell_type": "code",
   "execution_count": null,
   "id": "3a6e6b09",
   "metadata": {},
   "outputs": [],
   "source": []
  },
  {
   "cell_type": "markdown",
   "id": "3c83cf99",
   "metadata": {},
   "source": [
    "# Turing's model of morphogenesis and spectral methods\n",
    "\n",
    "Reaction-diffusion equations are sets of partial differential equations describing interactions among multiple coupled fields. Reaction diffusion equations represent a protypical example of nonlinear partial differential equations where spatial effects give rise to unique bifurcations that cannot occur in similar ordinary differential equations.\n",
    "\n",
    "Here, we are going to visit one of the most elegant known applications of reaction-diffusion dynamics: pattern formation. In 1952, Alan Turing used systems of reaction-diffusion equations to propose [a model of morphogenesis](https://www.dna.caltech.edu/courses/cs191/paperscs191/turing.pdf): the process by which cheetahs get their spots, or leaves develop their unique shapes. While biological systems often give the impression that every detail of the patterns on a zebra or the plumage of a parrot is precisely programmed by an elaborate genetic circuit, Turing's model suggests that two interacting chemical fields created early during the development of an organism can spontaneously produce surprisingly natural patterns, as long as natural selection has lead the governing parameters in the underlying equations to have just the right values.\n",
    "\n",
    "### The Gray-Scott model\n",
    "\n",
    "The simplest example of reaction-diffusion equations producing Turing patterns is the Gray-Scott model, which describes a synthesis reaction between two chemical species $U$ and $V$:\n",
    "$$\n",
    "U + 2 V \\rightarrow 3 V\n",
    "$$\n",
    "On a slower timescale, a second degradation reaction occurs in $V$\n",
    "$$\n",
    "V \\rightarrow P\n",
    "$$\n",
    "Where $P$ is an inert byproduct of the reaction. During an organism's development, the \"slow\" variable $V$ might represent a diffusing signalling molecule, while the fast reaction variable $U$ my represent the activity level of a gene activated by the molecule. \n",
    "\n",
    "If this reaction occurs across a spatial domain, then we can write two scalar fields, $u(\\mathbf{r}, t)$ and $v(\\mathbf{r}, t)$ describing the concentrations of the two chemical species across space.\n",
    "$$\n",
    "\\dot u = - u v^2 + b(1 - u) + D_u \\nabla^2 u\n",
    "$$\n",
    "$$\n",
    "\\dot v = u v^2 - \\kappa v + D_v \\nabla^2 v\n",
    "$$\n",
    "where $D_u$ and $D_v$ indicate separate diffusivities for the two reagents, and $b$ and $\\kappa$ parametrize autocatalysis of $U$ and degradation of $V$, respectively. If $U$ and $V$ were two chemical species, then separate diffusivities might result from the two having very different molecular weights.\n",
    "\n",
    "### Spectral methods\n",
    "\n",
    "Turing patterns have interesting mathematical structure because they reach steady-state solutions with nontrivial spatial heterogeneity in $u(\\mathbf{r}), v(\\mathbf{r})$. This setting represents a perfect use case for a class of PDE solvers known as [spectral methods](http://faculty.washington.edu/rjl/classes/am590a2013/_static/Fourier-Spectral.pdf), which seek to solve spatial PDEs in spatial frequency space rather than real space\n",
    "\n",
    "The critical idea for spectral methods is to remember that the Fourier transform of the derivative of a function is proportional to a polynomial times the function in frequency space. Using the expanded notation for a Fourier transform $U(k) \\equiv \\mathcal{F}[u(x)](k)$, then $\\mathcal{F}[\\frac{\\partial}{\\partial x} u(x)](k) = i k U(k)$ and $\\mathcal{F}[\\frac{\\partial^2}{\\partial^2 x} u(x)](k) = - k^2 U(k)$. These identities give us a way to transform our Gray-Scott equations into a more favorable representation; first by taking the Fourier transform of both sides of our equations, and then exploiting the linear properties of the Fourier transform operator. We can write our Gray-Scott equations in frequency space as\n",
    "$$\n",
    "\\dot U = -\\mathcal{F}[u v^2 + b(1 - u)] - D_u k^2 U\n",
    "$$\n",
    "$$\n",
    "\\dot V = \\mathcal{F}[u v^2 - \\kappa v] - D_v k^2 V\n",
    "$$\n",
    "Where we have used $U, V$ to denote the respective Fourier transforms of $u$ and $v$, $U \\equiv \\mathcal{F}[u], V \\equiv \\mathcal{F}[V]$. Hereafter, will use the condensed notation $\\mathcal{F}[u(x)](k) \\rightarrow \\mathcal{F}[u]$. Because we want to write these equations exclusively in terms of our frequency-space dynamical variables $U$ and $V$, we re-write these equations as,\n",
    "$$\n",
    "\\dot U = -\\mathcal{F}[\\mathcal{F^{-1}}[U] \\mathcal{F^{-1}}[V]^2 + b(1 - \\mathcal{F^{-1}}[U])] - D_u k^2 U\n",
    "$$\n",
    "$$\n",
    "\\dot V = \\mathcal{F}[\\mathcal{F^{-1}}[U] \\mathcal{F^{-1}}[V]^2 - \\kappa \\mathcal{F^{-1}}[V]] - D_v k^2 V\n",
    "$$\n",
    "This is a bit of an ugly way to write things out, but it emphasizes the computational steps.\n",
    "\n",
    "In the Fourier domain, we've gotten rid of the pesky Laplace operator that slowed down our integration in our previous problem. The tradeoff is that the reaction term looks more difficult now. In order to numerically integrate this equation in $U, V$ space, we would need to constantly convert between real and frequency space every time we want to compute the reaction term. Another option would be to convert *back* to real space,\n",
    "$$\n",
    "\\dot u = - u v^2 + b(1 - u) - \\mathcal{F^{-1}}[D_u k^2 \\mathcal{F}[u]]\n",
    "$$\n",
    "$$\n",
    "\\dot v = u v^2 - \\kappa v - \\mathcal{F^{-1}}[D_v k^2 \\mathcal{F}[v]]\n",
    "$$\n",
    "\n",
    "We can see now the key idea behind spectral methods: at each timestep, we switch to whatever basis (real space or frequency space) that makes it easiest to evaluate the terms in our dynamical equations. If we're working primarily in Fourier space, then we need to perform an inverse Fourier transform to calculate the real-space fields $u, v$, calculate the reaction, and then convert back to Fourier space. If we are working in real space, we need to perform a Fourier transfom to get $U, V$, calculate the diffusion term, and then perform an inverse Fourier transform to convert back to real space. If we were just solving an isolated diffusion equation, we could stay exclusively in Fourier space (likewise, real space for a purely reaction term). Unfortunately, we usually won't get so lucky for many real-world PDEs.\n",
    "\n",
    "Why would performing two Fourier transforms per timestep possibly be worthwhile compared to using the discrete Laplace operator, as we did above? While performing two fast Fourier transforms per timestep clearly increases the runtime per timestep, the key advantage of spectral methods is that they are usually very stable for long simulations. We can therefore decrease our mesh size (the number of spatial points in our domain), and still get a solution with the same accuracy. So, while using spectral methods increases the runtime of a single iteration of the right hand side for a given mesh size, we get time back because we can evaluate on a much coarser domain---for example, we might be able to go from a $500 \\times 500$ domain to a $100 \\times 100$ domain without losing much accuracy. For this reason, spectral methods can become particularly favorable in problems with many spatial dimensions.\n",
    "\n",
    "\n",
    "### To Do\n",
    "\n",
    "+ Implement the Gray-Scott equations in Python, using the spectral method and the method of lines. I've included the outline of my solution below, but feel free to structure your code differently. Use periodic boundary conditions here, because the Fourier transform requires them. You will likely find the functions `np.fft.fft2()` and `np.fft.ifft2()` very useful here. There are several possible ways to solve this problem: \n",
    "+ + (1) Purely in real space (it's good practice not to use this approach here, since we already did it above for the Allen-Cahn model)\n",
    "+ + (2) Primarily in real-space, but switching to the Fourier domain and back within every call to the diffusion term.\n",
    "+ + (3) Primarily in the Fourier domain, but switching back-and-forth to real space every time within the reaction term. Remember to convert your final solution back to real space for visualizations.\n",
    "\n",
    "+ Try varying the parameters $D_u$, $D_v$ and $\\beta$ in your equations. How do the solutions change? Do you have any intuition for why these changes might occur?\n",
    "\n",
    "+ We mentioned that performing Fourier transforms at each timestep is more expensive per mesh point than computing the discrete Laplacian at each timestep. Can you give a more mathematical reason for this advantage, based on runtime scaling of Fourier transforms? How many fewer mesh points would we need to compensate?\n",
    "\n",
    "+ Try playing around with the number of timepoints and the number of space points. When does the spectral method fail? How do these failures differ from the ones we saw with the real-space finite difference scheme we used for the Allen-Cahn equations?\n",
    "\n",
    "+ Evolutionary biologists recently showed strong evidence that [the spacing of teeth-like denticles on sharks' skin](https://www.science.org/doi/10.1126/sciadv.aau5484?cookieSet=1) arises from a Turing mechanism. If we suppose that the denticles form via a Turing instability in Gray-Scott equations in early development, which parameter of the Gray-Scott equations would evolutionary forces most strongly act upon?\n",
    "\n",
    "+ We assumed periodic boundary conditions, which makes this problem easier to implement. How do you expect our results would change, if we had Dirichlet boundary conditions?\n",
    "\n",
    "\n",
    "## Responses\n",
    "1. Increasing $D_u$ broadens patterns, leading to smoother and more spread out patterns. Increasing $D_v$ gives more localized features in $v$. Increasing $b$ changes the balance of the reaction term, causing the system to evolve differently.\n",
    "\n",
    "2. Fourier transforms scales as $O(NlogN)$ w/ discrete ffts, but the discrete lapacian scaled as $O(N**2)$. Spectral methods allow a coarser mesh size while retaining accuracy, significantly reducing memory and computation costs compared to high-resolution real-space grids. \n",
    "\n",
    "3. With too coarse of a grid, the spectral method starts to have aliasing. Compared to the finite-difference method, we see less instability that leads to some weird diverent solution, but we end up with weird artifacts instead.\n",
    "\n",
    "4. In the case of shark denticle spacing, evolutionary pressure would most likely fine-tune $D_u$​, $D_v$​, and $κ$, as these control the relative spread and rate of depletion of the reacting species, essential to setting up a stable Turing pattern. In biological terms, mutations influencing the production or degradation rate of signaling molecules would affect the stability and spacing of patterns, allowing selection for optimal spacing.\n",
    "\n",
    "5. Using Dirichlet (fixed-value) boundary conditions instead of periodic ones would prevent the patterns from wrapping around seamlessly. This would introduce boundary effects where pattern regularity breaks down near the edges of the domain, potentially distorting the symmetry and uniformity of the pattern formation."
   ]
  },
  {
   "cell_type": "code",
   "execution_count": 108,
   "id": "e0a277fc",
   "metadata": {},
   "outputs": [],
   "source": [
    "#!/usr/bin/python\n",
    "import numpy as np\n",
    "from scipy.integrate import solve_ivp\n",
    "\n",
    "class GrayScott:\n",
    "    \"\"\"\n",
    "    Simulate the two-dimensional Gray-Scott model\n",
    "    \"\"\"\n",
    "    def __init__(self, nx, ny, du=0.1, dv=0.05, b=0.0545, kappa=0.1165, Lx=1.0, Ly=1.0):\n",
    "        self.nx, self.ny = nx, ny\n",
    "        self.dx = Lx / nx\n",
    "        self.dy = Ly / ny\n",
    "        self.du, self.dv = du, dv\n",
    "        self.kappa = kappa\n",
    "        self.b = b\n",
    "        \n",
    "        kx = (np.pi / Lx) * np.hstack([np.arange(nx / 2 + 1), np.arange(1 - nx / 2, 0)])\n",
    "        ky = (np.pi / Ly) * np.hstack([np.arange(ny / 2 + 1), np.arange(1 - ny / 2, 0)])\n",
    "        self.kx, self.ky = kx, ky\n",
    "\n",
    "        kxx, kyy = np.meshgrid(kx, ky)\n",
    "        ksq = kxx**2 + kyy**2\n",
    "        self.ksq = ksq.flatten()\n",
    "\n",
    "        # These are some speed hacks. Instead of repeatedly flattening and then reshaping\n",
    "        # the arrays, we can just augment our parameter array. We gain speed at the \n",
    "        # expense of memory.\n",
    "        self.d = np.hstack([self.du * np.ones(nx * ny), self.dv * np.ones(nx * ny)])\n",
    "        self.ksq_stack = np.hstack([self.ksq, self.ksq])\n",
    "        \n",
    "    def _reaction(self, y):\n",
    "        \"\"\"\n",
    "        Bistable reaction term: cast into real space, perform reaction, and then cast\n",
    "        back into Fourier space.\n",
    "        \"\"\"\n",
    "\n",
    "        u = np.fft.ifft2(np.reshape(y[:self.nx * self.ny], (self.nx, self.ny)))\n",
    "        v = np.fft.ifft2(np.reshape(y[-self.nx * self.ny:], (self.nx, self.ny)))\n",
    "\n",
    "\n",
    "        uv2 = u * (v**2)\n",
    "        rxn_u = -uv2 + self.b * (1 - u)\n",
    "        rxn_v = uv2 - self.kappa * v\n",
    "\n",
    "        uk_out = np.fft.fft2(rxn_u)\n",
    "        vk_out = np.fft.fft2(rxn_v)\n",
    "        yk_out = np.hstack([uk_out.flatten(), vk_out.flatten()])\n",
    "        return yk_out\n",
    "\n",
    "\n",
    "    def _diffusion(self, y):\n",
    "        \"\"\"\n",
    "        Perform diffusion in Fourier space\n",
    "        \"\"\"\n",
    "        return -self.d * self.ksq_stack * y\n",
    "\n",
    "    def rhs(self, t, y):\n",
    "        \"\"\"\n",
    "        For technical reasons, this function needs to take a one-dimensional vector, \n",
    "        and so we have to reshape the vector back into the mesh\n",
    "        \"\"\"\n",
    "\n",
    "        out = 10*self._reaction(y) + self._diffusion(y)\n",
    "\n",
    "        return out\n",
    "\n",
    "\n",
    "    def solve(self, y0, t_min, t_max, nt, **kwargs):\n",
    "        \"\"\"\n",
    "        Solve the heat equation using the odeint solver\n",
    "\n",
    "        **kwargs are passed to scipy.integrate.solve_ivp\n",
    "        \"\"\"\n",
    "        u0, v0 = y0\n",
    "        tpts = np.linspace(t_min, t_max, nt)\n",
    "        u0k, v0k = np.fft.fft2(u0), np.fft.fft2(v0) # initial condition in Fourier space\n",
    "        y0k = np.hstack([u0k.flatten(), v0k.flatten()])\n",
    "\n",
    "        out = solve_ivp(self.rhs, (t_min, t_max), y0k, t_eval=tpts, **kwargs)\n",
    "        sol = out.y.T\n",
    "\n",
    "        # convert back to real space\n",
    "        sol2 = list()\n",
    "        for row in sol:\n",
    "            sol2.append([\n",
    "                np.fft.ifft2(np.reshape(row[:self.nx * self.ny], (self.nx, self.ny))),\n",
    "                np.fft.ifft2(np.reshape(row[-self.nx * self.ny:], (self.nx, self.ny)))\n",
    "            ])\n",
    "        sol2 = np.moveaxis(np.array(sol2), 1, 3)\n",
    "\n",
    "        return tpts, sol2"
   ]
  },
  {
   "cell_type": "markdown",
   "id": "ba82580e",
   "metadata": {},
   "source": [
    "### Test and use your code\n",
    "\n",
    "+ You don't need to write any code below, these cells are just to confirm that everything is working and to play with your sandpile implementation\n",
    "+ If you are working from a local fork of the entire course, then you already have access to the solutions. In this case, make sure to `git pull` to make sure that you are up-to-date (save your work first).\n",
    "+ If you are working from a single downloaded notebook, or are working in Google Colab, then you will need to manually download the solutions file from the course repository. The lines below will do this for you."
   ]
  },
  {
   "cell_type": "code",
   "execution_count": 54,
   "id": "74e79ce5",
   "metadata": {},
   "outputs": [
    {
     "name": "stdout",
     "output_type": "stream",
     "text": [
      "Directory \"solutions\" already exists. Skipping creation.\n",
      "File saved to solutions\\sandpile.py\n",
      "File saved to solutions\\sandpile.py\n"
     ]
    }
   ],
   "source": [
    "import os\n",
    "import requests\n",
    "# Check if the \"solutions\" directory exists. If not, create it and download the solution file\n",
    "if not os.path.exists('solutions'):\n",
    "    os.makedirs('solutions')\n",
    "else:\n",
    "    print('Directory \"solutions\" already exists. Skipping creation.')\n",
    "\n",
    "# Now download the solution file into the directory we just created\n",
    "url = 'https://raw.githubusercontent.com/williamgilpin/cphy/main/hw/solutions/grayscott.py'\n",
    "response = requests.get(url)\n",
    "file_path = os.path.join('solutions', 'sandpile.py')\n",
    "with open(file_path, 'wb') as file:\n",
    "    file.write(response.content)\n",
    "print(f'File saved to {file_path}')\n",
    "url = 'https://raw.githubusercontent.com/williamgilpin/cphy/main/hw/solutions/grayscott_alt.py'\n",
    "response = requests.get(url)\n",
    "file_path = os.path.join('solutions', 'sandpile.py')\n",
    "with open(file_path, 'wb') as file:\n",
    "    file.write(response.content)\n",
    "print(f'File saved to {file_path}')"
   ]
  },
  {
   "cell_type": "code",
   "execution_count": 109,
   "id": "557bb5b9",
   "metadata": {},
   "outputs": [
    {
     "name": "stdout",
     "output_type": "stream",
     "text": [
      "Imaginary residual is: 2.9384461578416325e-19\n"
     ]
    },
    {
     "data": {
      "text/plain": [
       "<matplotlib.image.AxesImage at 0x166a703c070>"
      ]
     },
     "execution_count": 109,
     "metadata": {},
     "output_type": "execute_result"
    },
    {
     "data": {
      "image/png": "[encoded data removed]",
      "text/plain": [
       "<Figure size 600x600 with 1 Axes>"
      ]
     },
     "metadata": {},
     "output_type": "display_data"
    }
   ],
   "source": [
    "# Import William's solution\n",
    "# from solutions.grayscott import GrayScott\n",
    "\n",
    "## Create initial conditions\n",
    "np.random.seed(0)\n",
    "u_ic = 0.5 +  1.5 * np.random.random((20, 20))\n",
    "v_ic = 1 - np.copy(u_ic)\n",
    "\n",
    "## Run simulation\n",
    "model = GrayScott(*u_ic.shape)\n",
    "tpts, sol = model.solve([u_ic, v_ic], 0, 500, 500)\n",
    "\n",
    "## Check that our spectral code is working: the imaginary residual should be small\n",
    "print(f\"Imaginary residual is: {np.mean(np.abs(np.imag(np.array(sol))))}\")\n",
    "sol = np.real(sol)\n",
    "\n",
    "plt.figure(figsize=(6, 6))\n",
    "plt.imshow(sol[-1, ..., 1])"
   ]
  },
  {
   "cell_type": "markdown",
   "id": "d13e7ada",
   "metadata": {},
   "source": [
    "(optional) Make an interactive video with a slider in the notebook. This will require the `ipywidgets` package, which is not installed by default in Google Colab. If you are running this notebook in Google Colab, you can install the package by running `!pip install ipywidgets` in a code cell."
   ]
  },
  {
   "cell_type": "code",
   "execution_count": null,
   "id": "5acf5463",
   "metadata": {},
   "outputs": [
    {
     "data": {
      "application/vnd.jupyter.widget-view+json": {
       "model_id": "27e4fb58b18944c296796a83e2af8a17",
       "version_major": 2,
       "version_minor": 0
      },
      "text/plain": [
       "interactive(children=(IntSlider(value=0, description='i', layout=Layout(width='500px'), max=499), Output()), _…"
      ]
     },
     "metadata": {},
     "output_type": "display_data"
    },
    {
     "data": {
      "text/plain": [
       "<function __main__.plotter(i)>"
      ]
     },
     "execution_count": 110,
     "metadata": {},
     "output_type": "execute_result"
    }
   ],
   "source": [
    "## Create an interactive plot using ipywidgets\n",
    "\n",
    "from ipywidgets import interact, interactive, fixed, interact_manual, Layout\n",
    "import ipywidgets as widgets\n",
    "\n",
    "def plotter(i):\n",
    "    fig = plt.figure(figsize=(10, 10))\n",
    "    plt.imshow(sol[i, ..., 1])\n",
    "    plt.show()\n",
    "\n",
    "\n",
    "\n",
    "interact(\n",
    "    plotter, \n",
    "    i=widgets.IntSlider(0, 0, len(sol) - 1, 1, layout=Layout(width='500px'))\n",
    ")"
   ]
  },
  {
   "cell_type": "markdown",
   "id": "60824d6b",
   "metadata": {},
   "source": [
    "\n",
    "### Additional information\n",
    "\n",
    "+ Our trick of switching the equations to the frequency might not seem that satisfying---we made the diffusion term easier to solve, but at the expense of having to round-trip the reaction term between real space and frequency space at every timestep. Deciding between real space and frequency space for a numerical integration problem is very context specific---here, we could guess that spectral methods are preferable because (1) periodic boundary conditions, (2) symmetry considerations, and (3) our simple reaction term. It turns out that, for many reaction-diffusion systems, there's a way to avoid converting the reaction term at each timestep, through [clever use of integrating factors.](https://arxiv.org/abs/1810.07431)\n",
    "+ You likely noticed that we glazed over the issue of boundary conditions. Projecting the PDE onto a Fourier basis implicitly assumes that we are working on a toroidal domain. Spectral methods include many options beyond just Fourier transforms. For Dirichlet boundary conditions, we can use [Chebyshev polynomials](https://people.maths.ox.ac.uk/trefethen/8all.pdf) as our basis functions instead.\n",
    "+ We saw that the Fourier domain was a natural setting for reaction-diffusion problems. Analytical tools for predicting Turing patterns confirm the appearance of patterns corresponds to an instability where one frequency component grows exponentially at the expense of all of the others---if we think of the system as a set of coupled ODEs repesenting different spatial frequencies, the instability corresponds to a solution where one variable diverges, while all the others go to zero. These diffusion-driven instabilities are explored in Chapter 2 of\n",
    "[Murray Mathematical biology](http://pcleon.if.ufrgs.br/pub/listas-sistdin/MurrayI.pdf).\n",
    "+ The biological accuracy of Turing's model remains a topic of research, but the reaction-diffusion model has been experimentally-tested and even directly manipulated in certain specific systems---including [angelfish patterns](https://www.nature.com/articles/376765a0), [shark skins](https://www.science.org/doi/10.1126/sciadv.aau5484?cookieSet=1), [bird feathers](https://www.sciencedirect.com/science/article/abs/pii/S0092867422004706), and [lizard skins](https://www.nature.com/articles/nature22031).\n",
    "+ Depending on their parameters, single-component diffusion-like equations like the Allen-Cahn equations can produce travelling, soliton-like fronts, which have been used to describe everything from epidemic spread, to propogation of beneficial genetic mutations, to \n",
    "+ [Dedalus](https://dedalus-project.org/) is an excellent new Python library for solving PDEs with spectral methods. The earlier MATLAB library [chebfun](https://www.chebfun.org/) has a similar purpose."
   ]
  },
  {
   "cell_type": "code",
   "execution_count": null,
   "id": "6bc8723e",
   "metadata": {},
   "outputs": [],
   "source": []
  },
  {
   "cell_type": "markdown",
   "id": "517f8076",
   "metadata": {},
   "source": [
    "## Optional Exercises\n",
    "+ Compare runtime scaling for different meshes and timesteps, for both spectral and finite-difference methods. At what lattice sizes does it make sense to use real-space versus spectral methods?\n",
    "\n",
    "+ Like a bifurcation in a system of ODEs, it is possible to compute the analytical bifurcation threshold for diffusion-driven instability in the Gray-Scott equations, compared to when the numerics show bifurcation. The two should agree when the mesh is sufficiently fine."
   ]
  },
  {
   "cell_type": "code",
   "execution_count": null,
   "id": "1f2fabf5",
   "metadata": {},
   "outputs": [],
   "source": []
  },
  {
   "cell_type": "code",
   "execution_count": null,
   "id": "f2cf7ff0",
   "metadata": {},
   "outputs": [],
   "source": []
  },
  {
   "cell_type": "code",
   "execution_count": null,
   "id": "089ce27b",
   "metadata": {},
   "outputs": [],
   "source": []
  },
  {
   "cell_type": "code",
   "execution_count": null,
   "id": "6ef7cd77",
   "metadata": {},
   "outputs": [],
   "source": []
  },
  {
   "cell_type": "markdown",
   "id": "2e745d9a",
   "metadata": {},
   "source": [
    "#### Extras\n",
    "\n",
    "William's code to run a parameter sweep and create a video of the changing solution as a function of the initial conditions."
   ]
  },
  {
   "cell_type": "code",
   "execution_count": 4,
   "id": "5550d367",
   "metadata": {},
   "outputs": [
    {
     "name": "stdout",
     "output_type": "stream",
     "text": [
      "0\n",
      "50\n",
      "100\n",
      "150\n",
      "200\n",
      "250\n",
      "300\n",
      "350\n",
      "400\n",
      "450\n"
     ]
    }
   ],
   "source": [
    "## Quasi-static parameter sweep\n",
    "# \n",
    "# Compute the steady state solution for a range of parameters, and pass the solution\n",
    "# to the solver as the initial condition for the next parameter value\n",
    "\n",
    "du_vals = np.linspace(0.08, 0.5, 500)\n",
    "\n",
    "model = GrayScott(*u_ic.shape, du=du_vals[0])\n",
    "tpts, sol = model.solve([u_ic, v_ic], 0, 5000, 500)\n",
    "all_u, all_v = [np.copy(sol[-1, ..., 0])], [np.copy(sol[-1, ..., 1])]\n",
    "\n",
    "for i, du in enumerate(du_vals[1:]):\n",
    "    if i % 50 == 0: print(i, flush=True)\n",
    "    model = GrayScott(*u_ic.shape, du=du)\n",
    "    tpts, sol = model.solve([all_u[-1], all_v[-1]], 0, 100, 10)\n",
    "    all_u.append(sol[-1, ..., 0])\n",
    "    all_v.append(sol[-1, ..., 1])\n",
    "all_v = np.array(all_v)\n",
    "all_u = np.array(all_u)\n"
   ]
  },
  {
   "cell_type": "code",
   "execution_count": 7,
   "id": "e329a32f",
   "metadata": {},
   "outputs": [],
   "source": [
    "vfield2 = np.copy(all_v)\n",
    "vmin = np.percentile(vfield2, 1)\n",
    "vmax = np.percentile(vfield2, 95)\n",
    "\n",
    "for i in range(len(vfield2) - 1):\n",
    "    \n",
    "    \n",
    "    out_path = \"private_dump/turing/frame\" + str(i).zfill(4) + \".png\"\n",
    "\n",
    "    plt.figure()\n",
    "    #plt.imshow(vfield2[i], vmin=vmin, vmax=vmax)\n",
    "    plt.imshow(vfield2[i]) # autoscale brightness\n",
    "\n",
    "    ax = plt.gca()\n",
    "    ax.set_axis_off()\n",
    "    ax.xaxis.set_major_locator(plt.NullLocator())\n",
    "    ax.yaxis.set_major_locator(plt.NullLocator())\n",
    "    ax.set_aspect(1, adjustable='box')\n",
    "\n",
    "    plt.savefig(out_path, bbox_inches='tight', pad_inches=0.0, dpi=300)\n",
    "    plt.close()\n"
   ]
  },
  {
   "cell_type": "code",
   "execution_count": null,
   "id": "936f0a17",
   "metadata": {},
   "outputs": [],
   "source": []
  },
  {
   "cell_type": "code",
   "execution_count": null,
   "id": "9eb5eb53",
   "metadata": {},
   "outputs": [],
   "source": []
  },
  {
   "cell_type": "code",
   "execution_count": null,
   "id": "32a11bb3-27bc-4150-81ba-ce76bd730521",
   "metadata": {},
   "outputs": [],
   "source": [
    "# (Optional) I use this code to export still images, and then make a video from them using\n",
    "# the command-line tool ffmpeg\n",
    "\n",
    "\n",
    "for i in range(len(sol)):\n",
    "    plt.figure()\n",
    "    plt.imshow(sol[i], vmin=-1, vmax=1, cmap=\"coolwarm\")\n",
    "    out_path = \"private_dump/frame\" + str(i).zfill(4) + \".png\"\n",
    "\n",
    "\n",
    "    ax = plt.gca()\n",
    "    ax.set_axis_off()\n",
    "    ax.xaxis.set_major_locator(plt.NullLocator())\n",
    "    ax.yaxis.set_major_locator(plt.NullLocator())\n",
    "    ax.set_aspect(1, adjustable='box')\n",
    "\n",
    "    plt.savefig(out_path, bbox_inches='tight', pad_inches=0.02, dpi=160)\n",
    "    plt.close()\n",
    "\n"
   ]
  },
  {
   "cell_type": "code",
   "execution_count": null,
   "id": "aa027f6a-5ecd-4a3f-9a4b-7d5ae7cc0345",
   "metadata": {},
   "outputs": [],
   "source": [
    "# (Optional) I used this code to stitch the images together into a video. The %%bash magic tells\n",
    "# iPython to treat these lines as bash commands, rather than Python. I then use the \n",
    "# command-line tool `ffmpeg` to stitch the images together into a video.\n",
    "\n",
    "%%bash\n",
    "ffmpeg -r 60 -i private_dump/frame%04d.png -vf \"scale=trunc(iw/2)*2:trunc(ih/2)*2\" -vcodec libx264 -pix_fmt yuv420p private_dump/vid2.mov\n"
   ]
  },
  {
   "cell_type": "code",
   "execution_count": null,
   "id": "169637b0-6a6e-4e14-852a-d6115f698300",
   "metadata": {},
   "outputs": [],
   "source": []
  }
 ],
 "metadata": {
  "kernelspec": {
   "display_name": "CIERAREU",
   "language": "python",
   "name": "python3"
  },
  "language_info": {
   "codemirror_mode": {
    "name": "ipython",
    "version": 3
   },
   "file_extension": ".py",
   "mimetype": "text/x-python",
   "name": "python",
   "nbconvert_exporter": "python",
   "pygments_lexer": "ipython3",
   "version": "3.10.14"
  }
 },
 "nbformat": 4,
 "nbformat_minor": 5
}
